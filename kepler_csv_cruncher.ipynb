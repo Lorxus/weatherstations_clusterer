{
  "nbformat": 4,
  "nbformat_minor": 0,
  "metadata": {
    "colab": {
      "provenance": [],
      "authorship_tag": "ABX9TyPonoERppN8HRikFrstVmIe",
      "include_colab_link": true
    },
    "kernelspec": {
      "name": "python3",
      "display_name": "Python 3"
    },
    "language_info": {
      "name": "python"
    }
  },
  "cells": [
    {
      "cell_type": "markdown",
      "metadata": {
        "id": "view-in-github",
        "colab_type": "text"
      },
      "source": [
        "<a href=\"https://colab.research.google.com/github/Lorxus/SERI-MATS-Summer-2024/blob/main/kepler_csv_cruncher.ipynb\" target=\"_parent\"><img src=\"https://colab.research.google.com/assets/colab-badge.svg\" alt=\"Open In Colab\"/></a>"
      ]
    },
    {
      "cell_type": "code",
      "execution_count": 16,
      "metadata": {
        "id": "lAW6ivTa-qDC"
      },
      "outputs": [],
      "source": [
        "import math\n",
        "import re\n",
        "\n",
        "kepler_raw = open(r\"cumulative_2024.06.26_12.15.36.csv\", \"r\")\n",
        "kepler_str = kepler_raw.read()\n",
        "kepler_raw.close()\n",
        "\n",
        "kepler_str = kepler_str.split('\\n')\n",
        "kepler_str = kepler_str[21:-1]  # removing the header stuff and the last blank row\n",
        "kepler_pure = []\n",
        "for S in kepler_str:\n",
        "    temp = S.split(',')\n",
        "    kepler_pure.append(temp[1:])  # I don't know that words can express how annoyed I am with NOAA nor how pleased I am with NASA, for the brevity of this code vs the other one.\n",
        "\n",
        "# KepID, Ground Truth, orbital period, transit duration, transit depth, body/star rad ratio, body radius, orbit sMa, inclination, body temperature, body insolation flux, star temperature, star radius, star mass\n",
        "\n",
        "\n",
        "kepler_filtered = []\n",
        "\n",
        "for P in kepler_pure:\n",
        "    temparray = []\n",
        "    temparray.append(P[0])\n",
        "    temparray.append(P[1])\n",
        "    temparray.append(P[2:])\n",
        "    kepler_filtered.append(temparray)\n",
        "\n",
        "# at this point, kepler_filtered consists of a list of lists of lists\n",
        "# A: list of all observation-packages B\n",
        "# B: KepID, Ground Truth (confirmed vs candidate vs false positive), list of observational data C\n",
        "# C: orbital period, transit duration, transit depth, body/star rad ratio, body radius, orbit sMa, inclination, body temperature, body insolation flux, star temperature, star radius, star mass"
      ]
    }
  ]
}